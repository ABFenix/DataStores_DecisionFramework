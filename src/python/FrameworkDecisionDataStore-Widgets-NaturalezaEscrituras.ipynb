{
 "cells": [
  {
   "cell_type": "code",
   "execution_count": null,
   "metadata": {
    "collapsed": true
   },
   "outputs": [],
   "source": [
    "## NATURALEZA DE LAS ESCRITURAS\n",
    "w_Operaciones = widgets.SelectMultiple(\n",
    "    options=['INSERT', 'UPDATE', 'DELETE'],\n",
    "    value=['INSERT'],\n",
    "    #rows=10,\n",
    "    description='Operaciones',\n",
    "    disabled=False\n",
    ")\n",
    "\n",
    "w_Recepcion = IntSlider(\n",
    "    min=0, max=100, \n",
    "    value=50, \n",
    "    description='Real-time:',\n",
    "    disabled=False\n",
    ")\n",
    "\n",
    "w_Concurrencia = widgets.Checkbox(\n",
    "    value=False,\n",
    "    description='Concurrencia en la recepcion',\n",
    "    disabled=False\n",
    ")\n",
    "\n",
    "w_TitleMetodo = Label(value='Metodo de recepción:')\n",
    "w_TitleRealTime = Label(value='Datos recibidos en real-time:')\n",
    "w_TitleBatch = Label(value='Datos recibidos en batch:')\n",
    "\n",
    "def f_displayRecepcion(x):\n",
    "    w_ValorRealTime = Label(value= str(x))\n",
    "    value_w_Result = str(100 - x)\n",
    "    w_ValorBatch = Label(value= value_w_Result)\n",
    "    form_items = Box([w_TitleRealTime, w_ValorRealTime,\n",
    "                      w_TitleBatch, w_ValorBatch], \n",
    "                     layout=form2_record_layout)\n",
    "    display(form_items)\n",
    "\n",
    "## MAIN ##\n",
    "##########\n",
    "\n",
    "out = widgets.interactive_output(f_displayRecepcion, {'x': w_Recepcion})\n",
    "\n",
    "form_items = Box([w_Recepcion, w_Concurrencia], \n",
    "                     layout=form_record_layout\n",
    "                )\n",
    "\n",
    "display(w_Operaciones)\n",
    "display(w_TitleMetodo, form_items, out)"
   ]
  }
 ],
 "metadata": {
  "kernelspec": {
   "display_name": "Python 3",
   "language": "python",
   "name": "python3"
  },
  "language_info": {
   "codemirror_mode": {
    "name": "ipython",
    "version": 3
   },
   "file_extension": ".py",
   "mimetype": "text/x-python",
   "name": "python",
   "nbconvert_exporter": "python",
   "pygments_lexer": "ipython3",
   "version": "3.6.3"
  }
 },
 "nbformat": 4,
 "nbformat_minor": 2
}
